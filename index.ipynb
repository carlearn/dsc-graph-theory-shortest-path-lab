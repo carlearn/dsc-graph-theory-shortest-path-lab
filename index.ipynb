{
 "cells": [
  {
   "cell_type": "markdown",
   "metadata": {},
   "source": [
    "# Graph Theory: Simple and Shortest Paths - Lab\n",
    "\n",
    "## Introduction\n",
    "\n",
    "In this lab you'll take the concepts from the previous lesson and code them from scratch yourself! You'll start by unpacking Dijkstra's algorithm and write an implementation to find the shortest path between two nodes. From there, you'll expand on the initial function in order to return the path itself and create a visualization to better understand the underlying process.\n",
    "\n",
    "## Objectives\n",
    "\n",
    "In this lab you will: \n",
    "\n",
    "- Code Dijkstra's algorithm from scratch \n",
    "- Calculate simple paths and shortest paths for undirected, directed and weighted graphs \n",
    "- Visualize network graphs with networkx \n",
    "\n",
    "\n",
    "## Importing Packages"
   ]
  },
  {
   "cell_type": "code",
   "execution_count": 4,
   "metadata": {},
   "outputs": [],
   "source": [
    "import networkx as nx\n",
    "import matplotlib.pyplot as plt\n",
    "import numpy as np\n",
    "%matplotlib inline"
   ]
  },
  {
   "cell_type": "markdown",
   "metadata": {},
   "source": [
    "## Regenerating the [Small World] Network\n",
    "\n",
    "To get started, here's the network from the previous lesson:"
   ]
  },
  {
   "cell_type": "code",
   "execution_count": 5,
   "metadata": {},
   "outputs": [
    {
     "ename": "AttributeError",
     "evalue": "module 'matplotlib.cbook' has no attribute 'iterable'",
     "output_type": "error",
     "traceback": [
      "\u001b[0;31m---------------------------------------------------------------------------\u001b[0m",
      "\u001b[0;31mAttributeError\u001b[0m                            Traceback (most recent call last)",
      "\u001b[0;32m<ipython-input-5-47492691105c>\u001b[0m in \u001b[0;36m<module>\u001b[0;34m\u001b[0m\n\u001b[1;32m      2\u001b[0m \u001b[0mG\u001b[0m \u001b[0;34m=\u001b[0m \u001b[0mnx\u001b[0m\u001b[0;34m.\u001b[0m\u001b[0mrelabel_nodes\u001b[0m\u001b[0;34m(\u001b[0m\u001b[0mG\u001b[0m\u001b[0;34m,\u001b[0m \u001b[0mdict\u001b[0m\u001b[0;34m(\u001b[0m\u001b[0mzip\u001b[0m\u001b[0;34m(\u001b[0m\u001b[0mG\u001b[0m\u001b[0;34m.\u001b[0m\u001b[0mnodes\u001b[0m\u001b[0;34m,\u001b[0m \u001b[0;34m[\u001b[0m\u001b[0;34m'A'\u001b[0m\u001b[0;34m,\u001b[0m \u001b[0;34m'B'\u001b[0m\u001b[0;34m,\u001b[0m \u001b[0;34m'C'\u001b[0m\u001b[0;34m,\u001b[0m \u001b[0;34m'D'\u001b[0m\u001b[0;34m,\u001b[0m \u001b[0;34m'E'\u001b[0m\u001b[0;34m,\u001b[0m \u001b[0;34m'F'\u001b[0m\u001b[0;34m,\u001b[0m \u001b[0;34m'G'\u001b[0m\u001b[0;34m,\u001b[0m \u001b[0;34m'H'\u001b[0m\u001b[0;34m,\u001b[0m \u001b[0;34m'I'\u001b[0m\u001b[0;34m]\u001b[0m\u001b[0;34m)\u001b[0m\u001b[0;34m)\u001b[0m\u001b[0;34m)\u001b[0m\u001b[0;34m\u001b[0m\u001b[0;34m\u001b[0m\u001b[0m\n\u001b[1;32m      3\u001b[0m nx.draw(G, pos=nx.random_layout(G, seed=9), with_labels=True, node_color='#1cf0c7',\n\u001b[0;32m----> 4\u001b[0;31m         node_size=500, font_weight='bold', width=2, alpha=0.8)\n\u001b[0m",
      "\u001b[0;32m~/opt/anaconda3/envs/learn-env/lib/python3.6/site-packages/networkx/drawing/nx_pylab.py\u001b[0m in \u001b[0;36mdraw\u001b[0;34m(G, pos, ax, **kwds)\u001b[0m\n\u001b[1;32m    124\u001b[0m \u001b[0;34m\u001b[0m\u001b[0m\n\u001b[1;32m    125\u001b[0m     \u001b[0;32mtry\u001b[0m\u001b[0;34m:\u001b[0m\u001b[0;34m\u001b[0m\u001b[0;34m\u001b[0m\u001b[0m\n\u001b[0;32m--> 126\u001b[0;31m         \u001b[0mdraw_networkx\u001b[0m\u001b[0;34m(\u001b[0m\u001b[0mG\u001b[0m\u001b[0;34m,\u001b[0m \u001b[0mpos\u001b[0m\u001b[0;34m=\u001b[0m\u001b[0mpos\u001b[0m\u001b[0;34m,\u001b[0m \u001b[0max\u001b[0m\u001b[0;34m=\u001b[0m\u001b[0max\u001b[0m\u001b[0;34m,\u001b[0m \u001b[0;34m**\u001b[0m\u001b[0mkwds\u001b[0m\u001b[0;34m)\u001b[0m\u001b[0;34m\u001b[0m\u001b[0;34m\u001b[0m\u001b[0m\n\u001b[0m\u001b[1;32m    127\u001b[0m         \u001b[0max\u001b[0m\u001b[0;34m.\u001b[0m\u001b[0mset_axis_off\u001b[0m\u001b[0;34m(\u001b[0m\u001b[0;34m)\u001b[0m\u001b[0;34m\u001b[0m\u001b[0;34m\u001b[0m\u001b[0m\n\u001b[1;32m    128\u001b[0m         \u001b[0mplt\u001b[0m\u001b[0;34m.\u001b[0m\u001b[0mdraw_if_interactive\u001b[0m\u001b[0;34m(\u001b[0m\u001b[0;34m)\u001b[0m\u001b[0;34m\u001b[0m\u001b[0;34m\u001b[0m\u001b[0m\n",
      "\u001b[0;32m~/opt/anaconda3/envs/learn-env/lib/python3.6/site-packages/networkx/drawing/nx_pylab.py\u001b[0m in \u001b[0;36mdraw_networkx\u001b[0;34m(G, pos, arrows, with_labels, **kwds)\u001b[0m\n\u001b[1;32m    276\u001b[0m \u001b[0;34m\u001b[0m\u001b[0m\n\u001b[1;32m    277\u001b[0m     \u001b[0mnode_collection\u001b[0m \u001b[0;34m=\u001b[0m \u001b[0mdraw_networkx_nodes\u001b[0m\u001b[0;34m(\u001b[0m\u001b[0mG\u001b[0m\u001b[0;34m,\u001b[0m \u001b[0mpos\u001b[0m\u001b[0;34m,\u001b[0m \u001b[0;34m**\u001b[0m\u001b[0mkwds\u001b[0m\u001b[0;34m)\u001b[0m\u001b[0;34m\u001b[0m\u001b[0;34m\u001b[0m\u001b[0m\n\u001b[0;32m--> 278\u001b[0;31m     \u001b[0medge_collection\u001b[0m \u001b[0;34m=\u001b[0m \u001b[0mdraw_networkx_edges\u001b[0m\u001b[0;34m(\u001b[0m\u001b[0mG\u001b[0m\u001b[0;34m,\u001b[0m \u001b[0mpos\u001b[0m\u001b[0;34m,\u001b[0m \u001b[0marrows\u001b[0m\u001b[0;34m=\u001b[0m\u001b[0marrows\u001b[0m\u001b[0;34m,\u001b[0m \u001b[0;34m**\u001b[0m\u001b[0mkwds\u001b[0m\u001b[0;34m)\u001b[0m\u001b[0;34m\u001b[0m\u001b[0;34m\u001b[0m\u001b[0m\n\u001b[0m\u001b[1;32m    279\u001b[0m     \u001b[0;32mif\u001b[0m \u001b[0mwith_labels\u001b[0m\u001b[0;34m:\u001b[0m\u001b[0;34m\u001b[0m\u001b[0;34m\u001b[0m\u001b[0m\n\u001b[1;32m    280\u001b[0m         \u001b[0mdraw_networkx_labels\u001b[0m\u001b[0;34m(\u001b[0m\u001b[0mG\u001b[0m\u001b[0;34m,\u001b[0m \u001b[0mpos\u001b[0m\u001b[0;34m,\u001b[0m \u001b[0;34m**\u001b[0m\u001b[0mkwds\u001b[0m\u001b[0;34m)\u001b[0m\u001b[0;34m\u001b[0m\u001b[0;34m\u001b[0m\u001b[0m\n",
      "\u001b[0;32m~/opt/anaconda3/envs/learn-env/lib/python3.6/site-packages/networkx/drawing/nx_pylab.py\u001b[0m in \u001b[0;36mdraw_networkx_edges\u001b[0;34m(G, pos, edgelist, width, edge_color, style, alpha, arrowstyle, arrowsize, edge_cmap, edge_vmin, edge_vmax, ax, arrows, label, node_size, nodelist, node_shape, **kwds)\u001b[0m\n\u001b[1;32m    561\u001b[0m     \u001b[0medge_pos\u001b[0m \u001b[0;34m=\u001b[0m \u001b[0mnp\u001b[0m\u001b[0;34m.\u001b[0m\u001b[0masarray\u001b[0m\u001b[0;34m(\u001b[0m\u001b[0;34m[\u001b[0m\u001b[0;34m(\u001b[0m\u001b[0mpos\u001b[0m\u001b[0;34m[\u001b[0m\u001b[0me\u001b[0m\u001b[0;34m[\u001b[0m\u001b[0;36m0\u001b[0m\u001b[0;34m]\u001b[0m\u001b[0;34m]\u001b[0m\u001b[0;34m,\u001b[0m \u001b[0mpos\u001b[0m\u001b[0;34m[\u001b[0m\u001b[0me\u001b[0m\u001b[0;34m[\u001b[0m\u001b[0;36m1\u001b[0m\u001b[0;34m]\u001b[0m\u001b[0;34m]\u001b[0m\u001b[0;34m)\u001b[0m \u001b[0;32mfor\u001b[0m \u001b[0me\u001b[0m \u001b[0;32min\u001b[0m \u001b[0medgelist\u001b[0m\u001b[0;34m]\u001b[0m\u001b[0;34m)\u001b[0m\u001b[0;34m\u001b[0m\u001b[0;34m\u001b[0m\u001b[0m\n\u001b[1;32m    562\u001b[0m \u001b[0;34m\u001b[0m\u001b[0m\n\u001b[0;32m--> 563\u001b[0;31m     \u001b[0;32mif\u001b[0m \u001b[0;32mnot\u001b[0m \u001b[0mcb\u001b[0m\u001b[0;34m.\u001b[0m\u001b[0miterable\u001b[0m\u001b[0;34m(\u001b[0m\u001b[0mwidth\u001b[0m\u001b[0;34m)\u001b[0m\u001b[0;34m:\u001b[0m\u001b[0;34m\u001b[0m\u001b[0;34m\u001b[0m\u001b[0m\n\u001b[0m\u001b[1;32m    564\u001b[0m         \u001b[0mlw\u001b[0m \u001b[0;34m=\u001b[0m \u001b[0;34m(\u001b[0m\u001b[0mwidth\u001b[0m\u001b[0;34m,\u001b[0m\u001b[0;34m)\u001b[0m\u001b[0;34m\u001b[0m\u001b[0;34m\u001b[0m\u001b[0m\n\u001b[1;32m    565\u001b[0m     \u001b[0;32melse\u001b[0m\u001b[0;34m:\u001b[0m\u001b[0;34m\u001b[0m\u001b[0;34m\u001b[0m\u001b[0m\n",
      "\u001b[0;31mAttributeError\u001b[0m: module 'matplotlib.cbook' has no attribute 'iterable'"
     ]
    },
    {
     "data": {
      "image/png": "[encoded data removed]",
      "text/plain": [
       "<Figure size 432x288 with 1 Axes>"
      ]
     },
     "metadata": {},
     "output_type": "display_data"
    }
   ],
   "source": [
    "G = nx.navigable_small_world_graph(3, seed=3)\n",
    "G = nx.relabel_nodes(G, dict(zip(G.nodes, ['A', 'B', 'C', 'D', 'E', 'F', 'G', 'H', 'I'])))\n",
    "nx.draw(G, pos=nx.random_layout(G, seed=9), with_labels=True, node_color='#1cf0c7',\n",
    "        node_size=500, font_weight='bold', width=2, alpha=0.8)"
   ]
  },
  {
   "cell_type": "markdown",
   "metadata": {},
   "source": [
    "## Dijkstra's Algorithm\n",
    "\n",
    "As a helpful reference, here's the description of Dijkstra's Algorithm from the previous lesson:\n",
    "\n",
    "\n",
    "Dijkstra's algorithm is essentially a depth based search. It commences at the starting node, spanning out to neighboring nodes and in turn visiting their neighbors in search of the destination. More formally, here's a general pseudocode outline for the algorithm:\n",
    "\n",
    "1. Mark all nodes as unvisited\n",
    "2. Set the distance of the starting node as 0, and $\\infty$ for all other nodes\n",
    "3. Set the starting node as the current node\n",
    "4. Visit each of the neighbors of the current node\n",
    "    1. For each neighbor, calculate the distance to that node traveling through the current node\n",
    "    2. If this distance is less then the current distance recorded for that node, update the record accordingly\n",
    "5. Mark the current node as \"visited\"\n",
    "6. Of the unvisited nodes, set the one with the smallest distance to the current node\n",
    "7. Repeat steps 4 through 6 until one of the following:\n",
    "    1. The algorithm terminates when the destination node is the current node\n",
    "    2. Alternatively, if the smallest distance of the unvisited nodes is $\\infty$, then no path exists to the destination node. \n",
    "\n",
    "> Note: Dijkstra's algorithm (and NetworkX's implementations demonstrated above) returns a single path. In many cases, there may be multiple paths which are tied for the shortest distance between two nodes. In such cases, it is arbitrary which path is returned. \n",
    "\n",
    "\n",
    "## Coding Dijkstra's Algorithm (Part 1)\n",
    "\n",
    "Implement a function to perform Dijkstra's algorithm. The function should take in three parameters: the graph `G`, the starting node `u`, and the destination node `v`. From there, return the minimum distance between nodes `u` and `v`. In the case that there is no path connecting `u` and `v`, printout an appropriate notification and return a missing value (`np.nan`). "
   ]
  },
  {
   "cell_type": "code",
   "execution_count": 6,
   "metadata": {},
   "outputs": [],
   "source": [
    "def dijkstra(G, u, v):\n",
    "    \"\"\"\n",
    "    G is the graph in question\n",
    "    u is the starting node\n",
    "    v is the destination node\n",
    "    \n",
    "    Future: add weighting option\n",
    "    \"\"\"\n",
    "    visited = set()\n",
    "    unvisited = set(G.nodes)\n",
    "    distances = {u:0}\n",
    "    for node in unvisited:\n",
    "        if node == u:\n",
    "            continue\n",
    "        else:\n",
    "            distances[node] = np.inf\n",
    "    cur_node = u\n",
    "    weight = 1 # Set default weight for non-weighted graphs\n",
    "    while len(unvisited) > 0:\n",
    "        if cur_node == v:\n",
    "            break\n",
    "        if min([distances[node] for node in unvisited]) == np.inf:\n",
    "            print('There is no path between u and v.')\n",
    "            return np.nan\n",
    "        # Pull up neighbors\n",
    "        neighbors = G[cur_node]\n",
    "        for node in neighbors:\n",
    "            # Future update:Add weight update for weighted graphs\n",
    "            # Set either the distance through the current node or a previous shorter path\n",
    "            distances[node] = min(distances[cur_node] + weight, distances[node])\n",
    "        # Mark current node as visited\n",
    "        visited.add(cur_node)\n",
    "        unvisited.remove(cur_node)\n",
    "        cur_node = sorted([(node, distances[node]) for node in unvisited], \n",
    "                          key=lambda x:x[1])[0][0] \n",
    "        # Set the node with the minimum distance as the current node\n",
    "    return distances[v]"
   ]
  },
  {
   "cell_type": "markdown",
   "metadata": {},
   "source": [
    "Test out your function on a couple of node pairs, and compare the output to that of NetworkX's built in implementation to verify your results."
   ]
  },
  {
   "cell_type": "code",
   "execution_count": 7,
   "metadata": {},
   "outputs": [
    {
     "data": {
      "text/plain": [
       "2"
      ]
     },
     "execution_count": 7,
     "metadata": {},
     "output_type": "execute_result"
    }
   ],
   "source": [
    "# Test your function here\n",
    "dijkstra(G, 'F', 'G')"
   ]
  },
  {
   "cell_type": "code",
   "execution_count": 8,
   "metadata": {},
   "outputs": [
    {
     "data": {
      "text/plain": [
       "2"
      ]
     },
     "execution_count": 8,
     "metadata": {},
     "output_type": "execute_result"
    }
   ],
   "source": [
    "# Compare to NetworkX's built in method\n",
    "nx.dijkstra_path_length(G, 'F', 'G')"
   ]
  },
  {
   "cell_type": "markdown",
   "metadata": {},
   "source": [
    "## Coding Dijkstra's Algorithm (Part 2)\n",
    "\n",
    "Now, update your algorithm to not only return the minimum distance between the two points, but a list of nodes outlining the directions for the shortest path from the starting node to the destination node. The direction list of nodes should start with the starting node, and end with the destination node, with intermediate step nodes in between. For example, just like the built in method from NetworkX:  \n",
    "\n",
    "```python\n",
    "nx.dijkstra_path(G, 'I', 'A')\n",
    "```\n",
    "should return \n",
    "\n",
    "```python\n",
    "['I', 'G', 'C', 'A']\n",
    "```\n"
   ]
  },
  {
   "cell_type": "code",
   "execution_count": 9,
   "metadata": {},
   "outputs": [],
   "source": [
    "def dijkstra(G, u, v, return_path_directions=True):\n",
    "    \"\"\"\n",
    "    G is the graph in question\n",
    "    u is the starting node\n",
    "    v is the destination node\n",
    "    \n",
    "    Returns path, distance\n",
    "    \"\"\"\n",
    "    visited = set()\n",
    "    unvisited = set(G.nodes)\n",
    "    distances = {u:0}\n",
    "    shortest_paths = {u:[u]}\n",
    "    for node in unvisited:\n",
    "        if node == u:\n",
    "            continue\n",
    "        else:\n",
    "            distances[node] = np.inf\n",
    "    cur_node = u\n",
    "    weight = 1 # Set default weight for non-weighted graphs\n",
    "    while len(unvisited) > 0:\n",
    "        if cur_node == v:\n",
    "            break\n",
    "        if min([distances[node] for node in unvisited]) == np.inf:\n",
    "            print('There is no path between u and v.')\n",
    "            return np.nan\n",
    "        # Pull up neighbors\n",
    "        neighbors = G[cur_node]\n",
    "        for node in neighbors:\n",
    "            # Future update: Add weight update for weighted graphs\n",
    "            # Set either the distance through the current node or a previous shorter path\n",
    "            if distances[cur_node] + weight < distances[node]:\n",
    "                distances[node] = distances[cur_node] + weight\n",
    "                shortest_paths[node] = shortest_paths[cur_node] + [node]\n",
    "        # Mark current node as visited\n",
    "        visited.add(cur_node)\n",
    "        unvisited.remove(cur_node)\n",
    "        cur_node = sorted([(node, distances[node]) for node in unvisited], \n",
    "                          key=lambda x:x[1])[0][0] \n",
    "        # Set the node with the minimum distance as the current node\n",
    "    if return_path_directions:\n",
    "        return shortest_paths[v], distances[v]\n",
    "    else:\n",
    "        return distances[v]"
   ]
  },
  {
   "cell_type": "markdown",
   "metadata": {},
   "source": [
    "Now check your updated function against the built in methods from NetworkX again."
   ]
  },
  {
   "cell_type": "code",
   "execution_count": 10,
   "metadata": {},
   "outputs": [
    {
     "name": "stdout",
     "output_type": "stream",
     "text": [
      "(['F', 'I', 'G'], 2) ['F', 'I', 'G'] 2\n",
      "\n",
      "\n",
      "\n",
      "(['I', 'G', 'C', 'A'], 3) ['I', 'G', 'C', 'A'] 3\n"
     ]
    }
   ],
   "source": [
    "print(dijkstra(G, 'F', 'G'), \n",
    "      nx.dijkstra_path(G, 'F', 'G'), \n",
    "      nx.dijkstra_path_length(G, 'F', 'G'))\n",
    "print('\\n\\n')\n",
    "print(dijkstra(G, 'I', 'A'), \n",
    "      nx.dijkstra_path(G, 'I', 'A'), \n",
    "      nx.dijkstra_path_length(G, 'I', 'A'))"
   ]
  },
  {
   "cell_type": "markdown",
   "metadata": {},
   "source": [
    "## Level-Up: Creating a Visual\n",
    "\n",
    "Modify your function in order to produce successive plots to visualize the process of Dijkstra's algorithm. Plot the edges connecting the starting node to \"visited\" nodes using one color (ideally, `'#00b3e6'`). Then, plot the current edge connecting the current node to the neighbor being explored with another color (ideally, `'#ffd43d'`). Create a subplot of these graphs to show the process of the algorithm.\n",
    "\n",
    "Putting these plots together, you can also create a fun interactive visual of Dijkstra's algorithm!\n",
    "Here's what the search for the shortest path between `F` and `G` looks like:\n",
    "\n",
    "<img src=\"images/Dijkstra_Visualized.gif\">\n",
    "\n",
    "Or broken apart, here are the individual steps shown as subplots:\n",
    "\n",
    "<img src=\"images/dijkstra_subplots.png\">"
   ]
  },
  {
   "cell_type": "code",
   "execution_count": 12,
   "metadata": {},
   "outputs": [],
   "source": [
    "def dijkstra(G, u, v, return_path_directions=True, show_plots=True):\n",
    "    \"\"\"\n",
    "    G is the graph in question\n",
    "    u is the starting node\n",
    "    v is the destination node\n",
    "    \n",
    "    Returns path, distance\n",
    "    \"\"\"\n",
    "    if show_plots:\n",
    "        return_path_directions = True # Must have path directions to generate plots\n",
    "    visited = set()\n",
    "    visited_edges = []\n",
    "    unvisited = set(G.nodes)\n",
    "    distances = {u:0}\n",
    "    shortest_paths = {u:[u]}\n",
    "    for node in unvisited:\n",
    "        if node == u:\n",
    "            continue\n",
    "        else:\n",
    "            distances[node] = np.inf\n",
    "    cur_node = u\n",
    "    weight = 1 # Set default weight for non-weighted graphs\n",
    "    # Create the initial plot\n",
    "    if show_plots:\n",
    "        fig = plt.figure(figsize=(20,15))\n",
    "        ax = fig.add_subplot(561)\n",
    "        nx.draw(G, pos=nx.random_layout(G, seed=9), with_labels=True, node_color='#1cf0c7',\n",
    "                node_size=500, font_weight='bold', width=2, alpha=0.8, ax=ax)\n",
    "        ax.set_title('Step 1')\n",
    "        plot_n = 2\n",
    "    while len(unvisited) > 0:\n",
    "        if cur_node == v:\n",
    "            break\n",
    "        if min([distances[node] for node in unvisited]) == np.inf:\n",
    "            print('There is no path between u and v.')\n",
    "            return np.nan\n",
    "        # Pull up neighbors\n",
    "        neighbors = G[cur_node]\n",
    "        for node in neighbors:\n",
    "            # Future update: Add weight update for weighted graphs\n",
    "            # Create a new graph of the neighbor being explored\n",
    "            if show_plots:\n",
    "                ax = fig.add_subplot(5,6,plot_n)\n",
    "                # Base Plot\n",
    "                nx.draw(G, pos=nx.random_layout(G, seed=9), \n",
    "                        with_labels=True, node_color='#1cf0c7',\n",
    "                        node_size=500, font_weight='bold', width=2, alpha=.8, ax=ax)\n",
    "                # Recolor paths to visited nodeds\n",
    "                nx.draw_networkx_edges(G, edgelist=visited_edges, \n",
    "                                       pos=nx.random_layout(G, seed=9),\n",
    "                       width=3, edge_color='#00b3e6', ax=ax);\n",
    "                # Recolor current path\n",
    "                nx.draw_networkx_edges(G, edgelist=[(cur_node, node)], \n",
    "                                       pos=nx.random_layout(G, seed=9),\n",
    "                       width=3, edge_color='#ffd43d', ax=ax);\n",
    "                ax.set_title('Step {}'.format(plot_n))\n",
    "                plot_n += 1\n",
    "            # Set either the distance through the current node or a previous shorter path\n",
    "            if distances[cur_node] + weight < distances[node]:\n",
    "                distances[node] = distances[cur_node] + weight\n",
    "                shortest_paths[node] = shortest_paths[cur_node] + [node]\n",
    "        # Mark current node as visited\n",
    "        visited.add(cur_node)\n",
    "        unvisited.remove(cur_node)\n",
    "        try:\n",
    "            # Will error for initial node\n",
    "            visited_edges.append((shortest_paths[cur_node][-2],cur_node))\n",
    "        except:\n",
    "            pass\n",
    "        # Update the plot for the visited node\n",
    "        if show_plots:\n",
    "            ax = fig.add_subplot(5,6,plot_n)\n",
    "            # Base Plot\n",
    "            nx.draw(G, pos=nx.random_layout(G, seed=9), \n",
    "                    with_labels=True, node_color='#1cf0c7',\n",
    "                    node_size=500, font_weight='bold', width=2, alpha=.8, ax=ax)\n",
    "            # Recolor paths to visited nodeds\n",
    "            nx.draw_networkx_edges(G, edgelist=visited_edges, \n",
    "                                   pos=nx.random_layout(G, seed=9),\n",
    "                       width=3, edge_color='#00b3e6', ax=ax);\n",
    "            ax.set_title('Step {}'.format(plot_n))\n",
    "            plot_n += 1\n",
    "            if plot_n >= 29:\n",
    "                plt.show()\n",
    "                return None\n",
    "        cur_node = sorted([(node, distances[node]) for node in unvisited], \n",
    "                          key=lambda x:x[1])[0][0] \n",
    "        # Set the node with the minimum distance as the current node\n",
    "    if return_path_directions:\n",
    "        return shortest_paths[v], distances[v]\n",
    "    else:\n",
    "        return distances[v]"
   ]
  },
  {
   "cell_type": "code",
   "execution_count": 13,
   "metadata": {},
   "outputs": [
    {
     "ename": "AttributeError",
     "evalue": "module 'matplotlib.cbook' has no attribute 'iterable'",
     "output_type": "error",
     "traceback": [
      "\u001b[0;31m---------------------------------------------------------------------------\u001b[0m",
      "\u001b[0;31mAttributeError\u001b[0m                            Traceback (most recent call last)",
      "\u001b[0;32m<ipython-input-13-7ffb60ccece0>\u001b[0m in \u001b[0;36m<module>\u001b[0;34m\u001b[0m\n\u001b[0;32m----> 1\u001b[0;31m \u001b[0mdijkstra\u001b[0m\u001b[0;34m(\u001b[0m\u001b[0mG\u001b[0m\u001b[0;34m,\u001b[0m \u001b[0;34m'F'\u001b[0m\u001b[0;34m,\u001b[0m \u001b[0;34m'G'\u001b[0m\u001b[0;34m)\u001b[0m\u001b[0;34m\u001b[0m\u001b[0;34m\u001b[0m\u001b[0m\n\u001b[0m",
      "\u001b[0;32m<ipython-input-12-bf09214a12c7>\u001b[0m in \u001b[0;36mdijkstra\u001b[0;34m(G, u, v, return_path_directions, show_plots)\u001b[0m\n\u001b[1;32m     26\u001b[0m         \u001b[0max\u001b[0m \u001b[0;34m=\u001b[0m \u001b[0mfig\u001b[0m\u001b[0;34m.\u001b[0m\u001b[0madd_subplot\u001b[0m\u001b[0;34m(\u001b[0m\u001b[0;36m561\u001b[0m\u001b[0;34m)\u001b[0m\u001b[0;34m\u001b[0m\u001b[0;34m\u001b[0m\u001b[0m\n\u001b[1;32m     27\u001b[0m         nx.draw(G, pos=nx.random_layout(G, seed=9), with_labels=True, node_color='#1cf0c7',\n\u001b[0;32m---> 28\u001b[0;31m                 node_size=500, font_weight='bold', width=2, alpha=0.8, ax=ax)\n\u001b[0m\u001b[1;32m     29\u001b[0m         \u001b[0max\u001b[0m\u001b[0;34m.\u001b[0m\u001b[0mset_title\u001b[0m\u001b[0;34m(\u001b[0m\u001b[0;34m'Step 1'\u001b[0m\u001b[0;34m)\u001b[0m\u001b[0;34m\u001b[0m\u001b[0;34m\u001b[0m\u001b[0m\n\u001b[1;32m     30\u001b[0m         \u001b[0mplot_n\u001b[0m \u001b[0;34m=\u001b[0m \u001b[0;36m2\u001b[0m\u001b[0;34m\u001b[0m\u001b[0;34m\u001b[0m\u001b[0m\n",
      "\u001b[0;32m~/opt/anaconda3/envs/learn-env/lib/python3.6/site-packages/networkx/drawing/nx_pylab.py\u001b[0m in \u001b[0;36mdraw\u001b[0;34m(G, pos, ax, **kwds)\u001b[0m\n\u001b[1;32m    124\u001b[0m \u001b[0;34m\u001b[0m\u001b[0m\n\u001b[1;32m    125\u001b[0m     \u001b[0;32mtry\u001b[0m\u001b[0;34m:\u001b[0m\u001b[0;34m\u001b[0m\u001b[0;34m\u001b[0m\u001b[0m\n\u001b[0;32m--> 126\u001b[0;31m         \u001b[0mdraw_networkx\u001b[0m\u001b[0;34m(\u001b[0m\u001b[0mG\u001b[0m\u001b[0;34m,\u001b[0m \u001b[0mpos\u001b[0m\u001b[0;34m=\u001b[0m\u001b[0mpos\u001b[0m\u001b[0;34m,\u001b[0m \u001b[0max\u001b[0m\u001b[0;34m=\u001b[0m\u001b[0max\u001b[0m\u001b[0;34m,\u001b[0m \u001b[0;34m**\u001b[0m\u001b[0mkwds\u001b[0m\u001b[0;34m)\u001b[0m\u001b[0;34m\u001b[0m\u001b[0;34m\u001b[0m\u001b[0m\n\u001b[0m\u001b[1;32m    127\u001b[0m         \u001b[0max\u001b[0m\u001b[0;34m.\u001b[0m\u001b[0mset_axis_off\u001b[0m\u001b[0;34m(\u001b[0m\u001b[0;34m)\u001b[0m\u001b[0;34m\u001b[0m\u001b[0;34m\u001b[0m\u001b[0m\n\u001b[1;32m    128\u001b[0m         \u001b[0mplt\u001b[0m\u001b[0;34m.\u001b[0m\u001b[0mdraw_if_interactive\u001b[0m\u001b[0;34m(\u001b[0m\u001b[0;34m)\u001b[0m\u001b[0;34m\u001b[0m\u001b[0;34m\u001b[0m\u001b[0m\n",
      "\u001b[0;32m~/opt/anaconda3/envs/learn-env/lib/python3.6/site-packages/networkx/drawing/nx_pylab.py\u001b[0m in \u001b[0;36mdraw_networkx\u001b[0;34m(G, pos, arrows, with_labels, **kwds)\u001b[0m\n\u001b[1;32m    276\u001b[0m \u001b[0;34m\u001b[0m\u001b[0m\n\u001b[1;32m    277\u001b[0m     \u001b[0mnode_collection\u001b[0m \u001b[0;34m=\u001b[0m \u001b[0mdraw_networkx_nodes\u001b[0m\u001b[0;34m(\u001b[0m\u001b[0mG\u001b[0m\u001b[0;34m,\u001b[0m \u001b[0mpos\u001b[0m\u001b[0;34m,\u001b[0m \u001b[0;34m**\u001b[0m\u001b[0mkwds\u001b[0m\u001b[0;34m)\u001b[0m\u001b[0;34m\u001b[0m\u001b[0;34m\u001b[0m\u001b[0m\n\u001b[0;32m--> 278\u001b[0;31m     \u001b[0medge_collection\u001b[0m \u001b[0;34m=\u001b[0m \u001b[0mdraw_networkx_edges\u001b[0m\u001b[0;34m(\u001b[0m\u001b[0mG\u001b[0m\u001b[0;34m,\u001b[0m \u001b[0mpos\u001b[0m\u001b[0;34m,\u001b[0m \u001b[0marrows\u001b[0m\u001b[0;34m=\u001b[0m\u001b[0marrows\u001b[0m\u001b[0;34m,\u001b[0m \u001b[0;34m**\u001b[0m\u001b[0mkwds\u001b[0m\u001b[0;34m)\u001b[0m\u001b[0;34m\u001b[0m\u001b[0;34m\u001b[0m\u001b[0m\n\u001b[0m\u001b[1;32m    279\u001b[0m     \u001b[0;32mif\u001b[0m \u001b[0mwith_labels\u001b[0m\u001b[0;34m:\u001b[0m\u001b[0;34m\u001b[0m\u001b[0;34m\u001b[0m\u001b[0m\n\u001b[1;32m    280\u001b[0m         \u001b[0mdraw_networkx_labels\u001b[0m\u001b[0;34m(\u001b[0m\u001b[0mG\u001b[0m\u001b[0;34m,\u001b[0m \u001b[0mpos\u001b[0m\u001b[0;34m,\u001b[0m \u001b[0;34m**\u001b[0m\u001b[0mkwds\u001b[0m\u001b[0;34m)\u001b[0m\u001b[0;34m\u001b[0m\u001b[0;34m\u001b[0m\u001b[0m\n",
      "\u001b[0;32m~/opt/anaconda3/envs/learn-env/lib/python3.6/site-packages/networkx/drawing/nx_pylab.py\u001b[0m in \u001b[0;36mdraw_networkx_edges\u001b[0;34m(G, pos, edgelist, width, edge_color, style, alpha, arrowstyle, arrowsize, edge_cmap, edge_vmin, edge_vmax, ax, arrows, label, node_size, nodelist, node_shape, **kwds)\u001b[0m\n\u001b[1;32m    561\u001b[0m     \u001b[0medge_pos\u001b[0m \u001b[0;34m=\u001b[0m \u001b[0mnp\u001b[0m\u001b[0;34m.\u001b[0m\u001b[0masarray\u001b[0m\u001b[0;34m(\u001b[0m\u001b[0;34m[\u001b[0m\u001b[0;34m(\u001b[0m\u001b[0mpos\u001b[0m\u001b[0;34m[\u001b[0m\u001b[0me\u001b[0m\u001b[0;34m[\u001b[0m\u001b[0;36m0\u001b[0m\u001b[0;34m]\u001b[0m\u001b[0;34m]\u001b[0m\u001b[0;34m,\u001b[0m \u001b[0mpos\u001b[0m\u001b[0;34m[\u001b[0m\u001b[0me\u001b[0m\u001b[0;34m[\u001b[0m\u001b[0;36m1\u001b[0m\u001b[0;34m]\u001b[0m\u001b[0;34m]\u001b[0m\u001b[0;34m)\u001b[0m \u001b[0;32mfor\u001b[0m \u001b[0me\u001b[0m \u001b[0;32min\u001b[0m \u001b[0medgelist\u001b[0m\u001b[0;34m]\u001b[0m\u001b[0;34m)\u001b[0m\u001b[0;34m\u001b[0m\u001b[0;34m\u001b[0m\u001b[0m\n\u001b[1;32m    562\u001b[0m \u001b[0;34m\u001b[0m\u001b[0m\n\u001b[0;32m--> 563\u001b[0;31m     \u001b[0;32mif\u001b[0m \u001b[0;32mnot\u001b[0m \u001b[0mcb\u001b[0m\u001b[0;34m.\u001b[0m\u001b[0miterable\u001b[0m\u001b[0;34m(\u001b[0m\u001b[0mwidth\u001b[0m\u001b[0;34m)\u001b[0m\u001b[0;34m:\u001b[0m\u001b[0;34m\u001b[0m\u001b[0;34m\u001b[0m\u001b[0m\n\u001b[0m\u001b[1;32m    564\u001b[0m         \u001b[0mlw\u001b[0m \u001b[0;34m=\u001b[0m \u001b[0;34m(\u001b[0m\u001b[0mwidth\u001b[0m\u001b[0;34m,\u001b[0m\u001b[0;34m)\u001b[0m\u001b[0;34m\u001b[0m\u001b[0;34m\u001b[0m\u001b[0m\n\u001b[1;32m    565\u001b[0m     \u001b[0;32melse\u001b[0m\u001b[0;34m:\u001b[0m\u001b[0;34m\u001b[0m\u001b[0;34m\u001b[0m\u001b[0m\n",
      "\u001b[0;31mAttributeError\u001b[0m: module 'matplotlib.cbook' has no attribute 'iterable'"
     ]
    },
    {
     "data": {
      "image/png": "[encoded data removed]",
      "text/plain": [
       "<Figure size 1440x1080 with 1 Axes>"
      ]
     },
     "metadata": {},
     "output_type": "display_data"
    }
   ],
   "source": [
    "dijkstra(G, 'F', 'G')"
   ]
  },
  {
   "cell_type": "markdown",
   "metadata": {},
   "source": [
    "## Summary \n",
    "\n",
    "Well done! In this lab, you deconstructed Dijkstra's algorithm and coded your own implementation! Finding the shortest path between nodes is a foundational concept in network theory and will help inform future concepts such as centrality and betweenness in order to further analyze the structures of graphs."
   ]
  }
 ],
 "metadata": {
  "kernelspec": {
   "display_name": "Python 3",
   "language": "python",
   "name": "python3"
  },
  "language_info": {
   "codemirror_mode": {
    "name": "ipython",
    "version": 3
   },
   "file_extension": ".py",
   "mimetype": "text/x-python",
   "name": "python",
   "nbconvert_exporter": "python",
   "pygments_lexer": "ipython3",
   "version": "3.6.9"
  }
 },
 "nbformat": 4,
 "nbformat_minor": 2
}
